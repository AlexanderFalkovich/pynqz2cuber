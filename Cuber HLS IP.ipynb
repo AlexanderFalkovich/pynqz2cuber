{
 "cells": [
  {
   "cell_type": "markdown",
   "metadata": {},
   "source": [
    "# Using PS GPIO with PYNQ\n",
    "\n",
    "## Goal\n",
    "\n",
    "The aim of this notebook is to show how to use the HLS 'cuber' IP utilizing AXI Light interface on PYNQ-Z2 board with MMIO driver. \n",
    "\n",
    "\n",
    "## Hardware design\n",
    "\n",
    "This example uses a bitstream that implements 'cuber' IP and can be used with PYNQ-Z2 board. \n",
    "\n",
    "![HLS](./images/cuber_cpp.png \"HLS CPP code\")\n",
    "![HLS_H](./images/xcube_hw_h.png \"HLS generated header file\")\n",
    "![BD](./images/cuber_bd.png \"PS cuber block diagram\")\n",
    "\n"
   ]
  },
  {
   "cell_type": "code",
   "execution_count": 35,
   "metadata": {},
   "outputs": [
    {
     "name": "stdout",
     "output_type": "stream",
     "text": [
      "/home/xilinx/jupyter_notebooks/PYNQ_DeepDive/cuber\n",
      "./bitstream/cuber.bit  ./bitstream/cuber.hwh  ./bitstream/cuber.tcl\n"
     ]
    }
   ],
   "source": [
    "!pwd\n",
    "!dir ./bitstream/cuber.*"
   ]
  },
  {
   "cell_type": "code",
   "execution_count": 36,
   "metadata": {},
   "outputs": [],
   "source": [
    "from pynq import Overlay\n",
    "cuber_design = Overlay(\"./bitstream/cuber.bit\")\n",
    "cuber_design?"
   ]
  },
  {
   "cell_type": "code",
   "execution_count": 37,
   "metadata": {},
   "outputs": [],
   "source": [
    "cuber_ip = cuber_design.cube_0\n",
    "cuber_ip?"
   ]
  },
  {
   "cell_type": "code",
   "execution_count": 38,
   "metadata": {},
   "outputs": [
    {
     "data": {
      "text/plain": [
       "8"
      ]
     },
     "execution_count": 38,
     "metadata": {},
     "output_type": "execute_result"
    }
   ],
   "source": [
    "cuber_ip.write(0x10,2)\n",
    "cuber_ip.read(0x18)"
   ]
  },
  {
   "cell_type": "code",
   "execution_count": 39,
   "metadata": {},
   "outputs": [],
   "source": [
    "from pynq import DefaultIP\n",
    "\n",
    "class CubeDriver(DefaultIP):\n",
    "    def __init__(self, description):\n",
    "        super().__init__(description=description)\n",
    "\n",
    "    bindto = ['xilinx.com:hls:cube:1.0']\n",
    "\n",
    "    def cube(self, x):\n",
    "        self.write(0x10, x)\n",
    "        return self.read(0x18)"
   ]
  },
  {
   "cell_type": "code",
   "execution_count": 40,
   "metadata": {},
   "outputs": [],
   "source": [
    "cuber_design = Overlay(\"./bitstream/cuber.bit\")\n",
    "cuber_design?"
   ]
  },
  {
   "cell_type": "code",
   "execution_count": 41,
   "metadata": {},
   "outputs": [
    {
     "data": {
      "text/plain": [
       "27"
      ]
     },
     "execution_count": 41,
     "metadata": {},
     "output_type": "execute_result"
    }
   ],
   "source": [
    "cuber_design.cube_0.cube(3)"
   ]
  },
  {
   "cell_type": "code",
   "execution_count": 42,
   "metadata": {},
   "outputs": [
    {
     "data": {
      "text/plain": [
       "512"
      ]
     },
     "execution_count": 42,
     "metadata": {},
     "output_type": "execute_result"
    }
   ],
   "source": [
    "cuber_design.cube_0.cube(8)"
   ]
  },
  {
   "cell_type": "code",
   "execution_count": 43,
   "metadata": {},
   "outputs": [
    {
     "data": {
      "text/plain": [
       "4294967232"
      ]
     },
     "execution_count": 43,
     "metadata": {},
     "output_type": "execute_result"
    }
   ],
   "source": [
    "cuber_design.cube_0.cube(-4)"
   ]
  }
 ],
 "metadata": {
  "kernelspec": {
   "display_name": "Python 3",
   "language": "python",
   "name": "python3"
  },
  "language_info": {
   "codemirror_mode": {
    "name": "ipython",
    "version": 3
   },
   "file_extension": ".py",
   "mimetype": "text/x-python",
   "name": "python",
   "nbconvert_exporter": "python",
   "pygments_lexer": "ipython3",
   "version": "3.6.5"
  }
 },
 "nbformat": 4,
 "nbformat_minor": 2
}
